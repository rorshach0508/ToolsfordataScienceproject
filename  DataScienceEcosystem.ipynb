{
 "cells": [
  {
   "cell_type": "markdown",
   "id": "a200fcbf",
   "metadata": {},
   "source": [
    "# Data Science Tools and Ecosystem\n"
   ]
  },
  {
   "cell_type": "markdown",
   "id": "8c688a1d",
   "metadata": {},
   "source": [
    "In this notebook, Data Science Tools and Ecosystem are summarized."
   ]
  },
  {
   "cell_type": "markdown",
   "id": "fa7fd168",
   "metadata": {},
   "source": [
    "**Objectives:**\n",
    "\n",
    "- List popular languages for Data Science.\n",
    "- Introduce commonly used libraries in data science.\n",
    "- Provide examples of evaluating arithmetic expressions in Python.\n",
    "- Illustrate the use of Jupyter Notebook, RStudio, and Visual Studio Code as development environment tools in data science.\n"
   ]
  },
  {
   "cell_type": "markdown",
   "id": "ddb7055c",
   "metadata": {},
   "source": [
    "Some of the popular languages that Data Scientists use are:\n",
    "\n",
    "1. Python\n",
    "2. R\n",
    "3. SQL\n"
   ]
  },
  {
   "cell_type": "markdown",
   "id": "4be519d6",
   "metadata": {},
   "source": [
    "Some of the commonly used libraries used by Data Scientists include:\n",
    "\n",
    "1. NumPy\n",
    "2. pandas\n",
    "3. Matplotlib\n",
    "4. scikit-learn\n",
    "5. TensorFlow\n",
    "6. PyTorch"
   ]
  },
  {
   "cell_type": "markdown",
   "id": "6dbbab23",
   "metadata": {},
   "source": [
    "| Data Science Tools   |\n",
    "|:---------------------|\n",
    "| Jupyter Notebook     |\n",
    "| RStudio              |\n",
    "| Visual Studio Code   |\n"
   ]
  },
  {
   "cell_type": "markdown",
   "id": "5e60baf7",
   "metadata": {},
   "source": [
    "### Below are a few examples of evaluating arithmetic expressions in Python.\n",
    "\n",
    "In programming, arithmetic expressions involve mathematical operations like addition, subtraction, multiplication, and division. Python provides a powerful and intuitive way to work with these expressions.\n",
    "\n",
    "Here are some examples:\n",
    "\n",
    "1. Addition:\n",
    "   result = 10 + 5\n",
    "   print(result)  # Output: 15\n",
    "   \n",
    "2. Subtraction:   \n",
    "   result = 20 - 8\n",
    "   print(result)  # Output: 12\n",
    "\n",
    "3. Multiplication\n",
    "   result = 6 * 4\n",
    "   print(result)  # Output: 24\n",
    "\n",
    "4. Division:\n",
    "   result = 15 / 3\n",
    "   print(result)  # Output: 5.0\n",
    "\n"
   ]
  },
  {
   "cell_type": "code",
   "execution_count": 2,
   "id": "b72da983",
   "metadata": {},
   "outputs": [
    {
     "data": {
      "text/plain": [
       "17"
      ]
     },
     "execution_count": 2,
     "metadata": {},
     "output_type": "execute_result"
    }
   ],
   "source": [
    "# This a simple arithmetic expression to mutiply then add integers\n",
    "\n",
    "result = (3*4)+5\n",
    "result"
   ]
  },
  {
   "cell_type": "code",
   "execution_count": 3,
   "id": "9f76561d",
   "metadata": {},
   "outputs": [
    {
     "name": "stdout",
     "output_type": "stream",
     "text": [
      "200\n"
     ]
    },
    {
     "data": {
      "text/plain": [
       "3.3333333333333335"
      ]
     },
     "execution_count": 3,
     "metadata": {},
     "output_type": "execute_result"
    }
   ],
   "source": [
    "# This will convert 200 minutes to hours by diving by 60\n",
    "\n",
    "input_1 = int(input())\n",
    "result = input_1/60\n",
    "\n",
    "result"
   ]
  },
  {
   "cell_type": "markdown",
   "id": "d2020f36",
   "metadata": {},
   "source": [
    "## Author\n",
    "\n",
    " DataScienceEcosystem by Rahul Adekar\n"
   ]
  },
  {
   "cell_type": "code",
   "execution_count": null,
   "id": "31a8e069",
   "metadata": {},
   "outputs": [],
   "source": []
  }
 ],
 "metadata": {
  "kernelspec": {
   "display_name": "Python 3 (ipykernel)",
   "language": "python",
   "name": "python3"
  },
  "language_info": {
   "codemirror_mode": {
    "name": "ipython",
    "version": 3
   },
   "file_extension": ".py",
   "mimetype": "text/x-python",
   "name": "python",
   "nbconvert_exporter": "python",
   "pygments_lexer": "ipython3",
   "version": "3.9.12"
  }
 },
 "nbformat": 4,
 "nbformat_minor": 5
}
